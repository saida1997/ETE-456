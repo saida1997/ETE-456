{
  "nbformat": 4,
  "nbformat_minor": 0,
  "metadata": {
    "colab": {
      "name": "1608014_Regression",
      "provenance": [],
      "authorship_tag": "ABX9TyNXjnj95O23Dz3LzwS9I9X+",
      "include_colab_link": true
    },
    "kernelspec": {
      "name": "python3",
      "display_name": "Python 3"
    },
    "language_info": {
      "name": "python"
    }
  },
  "cells": [
    {
      "cell_type": "markdown",
      "metadata": {
        "id": "view-in-github",
        "colab_type": "text"
      },
      "source": [
        "<a href=\"https://colab.research.google.com/github/saida1997/ETE-456/blob/main/1608014_Regression.ipynb\" target=\"_parent\"><img src=\"https://colab.research.google.com/assets/colab-badge.svg\" alt=\"Open In Colab\"/></a>"
      ]
    },
    {
      "cell_type": "markdown",
      "source": [
        "# **Experiment Name: Exploring Different Types of Regression**\n",
        "Course No: ETE 456\n",
        "\n",
        "Name: Saida Sharmin\n",
        "\n",
        " ID: 1608014\n",
        "\n",
        "**Objective**\n",
        "\n",
        "> 1.To apply different regression algorithms in real world dataset.\n",
        "\n"
      ],
      "metadata": {
        "id": "_6e6-jdWlKWW"
      }
    },
    {
      "cell_type": "markdown",
      "source": [
        "**Task**\n",
        "\n",
        "> Prediction of Insurance Costs\n",
        "\n"
      ],
      "metadata": {
        "id": "owxOuIFanp9Y"
      }
    },
    {
      "cell_type": "code",
      "metadata": {
        "id": "pTvOPyHSfYe1"
      },
      "source": [
        "import warnings\n",
        "warnings.filterwarnings(\"ignore\")"
      ],
      "execution_count": null,
      "outputs": []
    },
    {
      "cell_type": "markdown",
      "source": [
        "**Importing The Libraries**"
      ],
      "metadata": {
        "id": "47wr5gnErl0b"
      }
    },
    {
      "cell_type": "code",
      "metadata": {
        "id": "PT9m-APYeh_B"
      },
      "source": [
        "import numpy as np        \n",
        "import pandas as pd     \n",
        "import matplotlib.pyplot as plt "
      ],
      "execution_count": null,
      "outputs": []
    },
    {
      "cell_type": "markdown",
      "source": [
        "**Dataset**"
      ],
      "metadata": {
        "id": "nQ-JmMeLrqTA"
      }
    },
    {
      "cell_type": "code",
      "metadata": {
        "colab": {
          "base_uri": "https://localhost:8080/"
        },
        "id": "KmUYpRK2doIC",
        "outputId": "c1a4175e-f7d9-41a5-c6d7-a53f33a37513"
      },
      "source": [
        "# Download the data\n",
        "!wget -O insurance.csv https://www.dropbox.com/s/mwgqgjbmfw0xa5p/insurance.csv?dl=0"
      ],
      "execution_count": null,
      "outputs": [
        {
          "output_type": "stream",
          "name": "stdout",
          "text": [
            "--2021-12-01 15:59:48--  https://www.dropbox.com/s/mwgqgjbmfw0xa5p/insurance.csv?dl=0\n",
            "Resolving www.dropbox.com (www.dropbox.com)... 162.125.3.18, 2620:100:6018:18::a27d:312\n",
            "Connecting to www.dropbox.com (www.dropbox.com)|162.125.3.18|:443... connected.\n",
            "HTTP request sent, awaiting response... 301 Moved Permanently\n",
            "Location: /s/raw/mwgqgjbmfw0xa5p/insurance.csv [following]\n",
            "--2021-12-01 15:59:48--  https://www.dropbox.com/s/raw/mwgqgjbmfw0xa5p/insurance.csv\n",
            "Reusing existing connection to www.dropbox.com:443.\n",
            "HTTP request sent, awaiting response... 302 Found\n",
            "Location: https://uca9b04445215da91177f1e35e05.dl.dropboxusercontent.com/cd/0/inline/BbDtWH_GPU7EbRKdXQP5tBELTbGguckirHkgkJZq8-dyCwGSp3stt3OWYOzrugNB0D0k1HoOsAWNqknaTbdKWRnMaI0u7hl4n-TTpHz5EpOdgC46ijXebDb3jMeYWeH7ET2asIJNC7gAoMmjGc6_1oQj/file# [following]\n",
            "--2021-12-01 15:59:48--  https://uca9b04445215da91177f1e35e05.dl.dropboxusercontent.com/cd/0/inline/BbDtWH_GPU7EbRKdXQP5tBELTbGguckirHkgkJZq8-dyCwGSp3stt3OWYOzrugNB0D0k1HoOsAWNqknaTbdKWRnMaI0u7hl4n-TTpHz5EpOdgC46ijXebDb3jMeYWeH7ET2asIJNC7gAoMmjGc6_1oQj/file\n",
            "Resolving uca9b04445215da91177f1e35e05.dl.dropboxusercontent.com (uca9b04445215da91177f1e35e05.dl.dropboxusercontent.com)... 162.125.5.15, 2620:100:6035:15::a27d:550f\n",
            "Connecting to uca9b04445215da91177f1e35e05.dl.dropboxusercontent.com (uca9b04445215da91177f1e35e05.dl.dropboxusercontent.com)|162.125.5.15|:443... connected.\n",
            "HTTP request sent, awaiting response... 200 OK\n",
            "Length: 55628 (54K) [text/plain]\n",
            "Saving to: ‘insurance.csv’\n",
            "\n",
            "insurance.csv       100%[===================>]  54.32K  --.-KB/s    in 0.07s   \n",
            "\n",
            "2021-12-01 15:59:49 (807 KB/s) - ‘insurance.csv’ saved [55628/55628]\n",
            "\n"
          ]
        }
      ]
    },
    {
      "cell_type": "markdown",
      "metadata": {
        "id": "oau7bLpYtTxt"
      },
      "source": [
        "**Importing the dataset**"
      ]
    },
    {
      "cell_type": "code",
      "metadata": {
        "colab": {
          "base_uri": "https://localhost:8080/",
          "height": 419
        },
        "id": "Ey_ls7ZveJti",
        "outputId": "8e01d4bb-cd6b-412d-a30b-37438085bad5"
      },
      "source": [
        "\n",
        "\n",
        "dataset = pd.read_csv('insurance.csv')\n",
        "dataset"
      ],
      "execution_count": null,
      "outputs": [
        {
          "output_type": "execute_result",
          "data": {
            "text/html": [
              "<div>\n",
              "<style scoped>\n",
              "    .dataframe tbody tr th:only-of-type {\n",
              "        vertical-align: middle;\n",
              "    }\n",
              "\n",
              "    .dataframe tbody tr th {\n",
              "        vertical-align: top;\n",
              "    }\n",
              "\n",
              "    .dataframe thead th {\n",
              "        text-align: right;\n",
              "    }\n",
              "</style>\n",
              "<table border=\"1\" class=\"dataframe\">\n",
              "  <thead>\n",
              "    <tr style=\"text-align: right;\">\n",
              "      <th></th>\n",
              "      <th>age</th>\n",
              "      <th>sex</th>\n",
              "      <th>bmi</th>\n",
              "      <th>children</th>\n",
              "      <th>smoker</th>\n",
              "      <th>region</th>\n",
              "      <th>charges</th>\n",
              "    </tr>\n",
              "  </thead>\n",
              "  <tbody>\n",
              "    <tr>\n",
              "      <th>0</th>\n",
              "      <td>19</td>\n",
              "      <td>female</td>\n",
              "      <td>27.900</td>\n",
              "      <td>0</td>\n",
              "      <td>yes</td>\n",
              "      <td>southwest</td>\n",
              "      <td>16884.92400</td>\n",
              "    </tr>\n",
              "    <tr>\n",
              "      <th>1</th>\n",
              "      <td>18</td>\n",
              "      <td>male</td>\n",
              "      <td>33.770</td>\n",
              "      <td>1</td>\n",
              "      <td>no</td>\n",
              "      <td>southeast</td>\n",
              "      <td>1725.55230</td>\n",
              "    </tr>\n",
              "    <tr>\n",
              "      <th>2</th>\n",
              "      <td>28</td>\n",
              "      <td>male</td>\n",
              "      <td>33.000</td>\n",
              "      <td>3</td>\n",
              "      <td>no</td>\n",
              "      <td>southeast</td>\n",
              "      <td>4449.46200</td>\n",
              "    </tr>\n",
              "    <tr>\n",
              "      <th>3</th>\n",
              "      <td>33</td>\n",
              "      <td>male</td>\n",
              "      <td>22.705</td>\n",
              "      <td>0</td>\n",
              "      <td>no</td>\n",
              "      <td>northwest</td>\n",
              "      <td>21984.47061</td>\n",
              "    </tr>\n",
              "    <tr>\n",
              "      <th>4</th>\n",
              "      <td>32</td>\n",
              "      <td>male</td>\n",
              "      <td>28.880</td>\n",
              "      <td>0</td>\n",
              "      <td>no</td>\n",
              "      <td>northwest</td>\n",
              "      <td>3866.85520</td>\n",
              "    </tr>\n",
              "    <tr>\n",
              "      <th>...</th>\n",
              "      <td>...</td>\n",
              "      <td>...</td>\n",
              "      <td>...</td>\n",
              "      <td>...</td>\n",
              "      <td>...</td>\n",
              "      <td>...</td>\n",
              "      <td>...</td>\n",
              "    </tr>\n",
              "    <tr>\n",
              "      <th>1333</th>\n",
              "      <td>50</td>\n",
              "      <td>male</td>\n",
              "      <td>30.970</td>\n",
              "      <td>3</td>\n",
              "      <td>no</td>\n",
              "      <td>northwest</td>\n",
              "      <td>10600.54830</td>\n",
              "    </tr>\n",
              "    <tr>\n",
              "      <th>1334</th>\n",
              "      <td>18</td>\n",
              "      <td>female</td>\n",
              "      <td>31.920</td>\n",
              "      <td>0</td>\n",
              "      <td>no</td>\n",
              "      <td>northeast</td>\n",
              "      <td>2205.98080</td>\n",
              "    </tr>\n",
              "    <tr>\n",
              "      <th>1335</th>\n",
              "      <td>18</td>\n",
              "      <td>female</td>\n",
              "      <td>36.850</td>\n",
              "      <td>0</td>\n",
              "      <td>no</td>\n",
              "      <td>southeast</td>\n",
              "      <td>1629.83350</td>\n",
              "    </tr>\n",
              "    <tr>\n",
              "      <th>1336</th>\n",
              "      <td>21</td>\n",
              "      <td>female</td>\n",
              "      <td>25.800</td>\n",
              "      <td>0</td>\n",
              "      <td>no</td>\n",
              "      <td>southwest</td>\n",
              "      <td>2007.94500</td>\n",
              "    </tr>\n",
              "    <tr>\n",
              "      <th>1337</th>\n",
              "      <td>61</td>\n",
              "      <td>female</td>\n",
              "      <td>29.070</td>\n",
              "      <td>0</td>\n",
              "      <td>yes</td>\n",
              "      <td>northwest</td>\n",
              "      <td>29141.36030</td>\n",
              "    </tr>\n",
              "  </tbody>\n",
              "</table>\n",
              "<p>1338 rows × 7 columns</p>\n",
              "</div>"
            ],
            "text/plain": [
              "      age     sex     bmi  children smoker     region      charges\n",
              "0      19  female  27.900         0    yes  southwest  16884.92400\n",
              "1      18    male  33.770         1     no  southeast   1725.55230\n",
              "2      28    male  33.000         3     no  southeast   4449.46200\n",
              "3      33    male  22.705         0     no  northwest  21984.47061\n",
              "4      32    male  28.880         0     no  northwest   3866.85520\n",
              "...   ...     ...     ...       ...    ...        ...          ...\n",
              "1333   50    male  30.970         3     no  northwest  10600.54830\n",
              "1334   18  female  31.920         0     no  northeast   2205.98080\n",
              "1335   18  female  36.850         0     no  southeast   1629.83350\n",
              "1336   21  female  25.800         0     no  southwest   2007.94500\n",
              "1337   61  female  29.070         0    yes  northwest  29141.36030\n",
              "\n",
              "[1338 rows x 7 columns]"
            ]
          },
          "metadata": {},
          "execution_count": 4
        }
      ]
    },
    {
      "cell_type": "markdown",
      "source": [
        "Now splitting the dataset into independent and dependent variables. Independent are the features which are used for prediction. Dependent is the target which will be predicted."
      ],
      "metadata": {
        "id": "YbQVdsiduIpi"
      }
    },
    {
      "cell_type": "code",
      "metadata": {
        "id": "--dljnYgekGe"
      },
      "source": [
        "features = dataset[['age'\t,'sex',\t'bmi','children','smoker','region']]  # for independent\n",
        "target = dataset[['charges']]   # for dependent"
      ],
      "execution_count": null,
      "outputs": []
    },
    {
      "cell_type": "code",
      "metadata": {
        "colab": {
          "base_uri": "https://localhost:8080/",
          "height": 419
        },
        "id": "BIn7VZllf1Mj",
        "outputId": "89066d22-d55e-42fa-ddd9-faa13c13e29a"
      },
      "source": [
        "features"
      ],
      "execution_count": null,
      "outputs": [
        {
          "output_type": "execute_result",
          "data": {
            "text/html": [
              "<div>\n",
              "<style scoped>\n",
              "    .dataframe tbody tr th:only-of-type {\n",
              "        vertical-align: middle;\n",
              "    }\n",
              "\n",
              "    .dataframe tbody tr th {\n",
              "        vertical-align: top;\n",
              "    }\n",
              "\n",
              "    .dataframe thead th {\n",
              "        text-align: right;\n",
              "    }\n",
              "</style>\n",
              "<table border=\"1\" class=\"dataframe\">\n",
              "  <thead>\n",
              "    <tr style=\"text-align: right;\">\n",
              "      <th></th>\n",
              "      <th>age</th>\n",
              "      <th>sex</th>\n",
              "      <th>bmi</th>\n",
              "      <th>children</th>\n",
              "      <th>smoker</th>\n",
              "      <th>region</th>\n",
              "    </tr>\n",
              "  </thead>\n",
              "  <tbody>\n",
              "    <tr>\n",
              "      <th>0</th>\n",
              "      <td>19</td>\n",
              "      <td>female</td>\n",
              "      <td>27.900</td>\n",
              "      <td>0</td>\n",
              "      <td>yes</td>\n",
              "      <td>southwest</td>\n",
              "    </tr>\n",
              "    <tr>\n",
              "      <th>1</th>\n",
              "      <td>18</td>\n",
              "      <td>male</td>\n",
              "      <td>33.770</td>\n",
              "      <td>1</td>\n",
              "      <td>no</td>\n",
              "      <td>southeast</td>\n",
              "    </tr>\n",
              "    <tr>\n",
              "      <th>2</th>\n",
              "      <td>28</td>\n",
              "      <td>male</td>\n",
              "      <td>33.000</td>\n",
              "      <td>3</td>\n",
              "      <td>no</td>\n",
              "      <td>southeast</td>\n",
              "    </tr>\n",
              "    <tr>\n",
              "      <th>3</th>\n",
              "      <td>33</td>\n",
              "      <td>male</td>\n",
              "      <td>22.705</td>\n",
              "      <td>0</td>\n",
              "      <td>no</td>\n",
              "      <td>northwest</td>\n",
              "    </tr>\n",
              "    <tr>\n",
              "      <th>4</th>\n",
              "      <td>32</td>\n",
              "      <td>male</td>\n",
              "      <td>28.880</td>\n",
              "      <td>0</td>\n",
              "      <td>no</td>\n",
              "      <td>northwest</td>\n",
              "    </tr>\n",
              "    <tr>\n",
              "      <th>...</th>\n",
              "      <td>...</td>\n",
              "      <td>...</td>\n",
              "      <td>...</td>\n",
              "      <td>...</td>\n",
              "      <td>...</td>\n",
              "      <td>...</td>\n",
              "    </tr>\n",
              "    <tr>\n",
              "      <th>1333</th>\n",
              "      <td>50</td>\n",
              "      <td>male</td>\n",
              "      <td>30.970</td>\n",
              "      <td>3</td>\n",
              "      <td>no</td>\n",
              "      <td>northwest</td>\n",
              "    </tr>\n",
              "    <tr>\n",
              "      <th>1334</th>\n",
              "      <td>18</td>\n",
              "      <td>female</td>\n",
              "      <td>31.920</td>\n",
              "      <td>0</td>\n",
              "      <td>no</td>\n",
              "      <td>northeast</td>\n",
              "    </tr>\n",
              "    <tr>\n",
              "      <th>1335</th>\n",
              "      <td>18</td>\n",
              "      <td>female</td>\n",
              "      <td>36.850</td>\n",
              "      <td>0</td>\n",
              "      <td>no</td>\n",
              "      <td>southeast</td>\n",
              "    </tr>\n",
              "    <tr>\n",
              "      <th>1336</th>\n",
              "      <td>21</td>\n",
              "      <td>female</td>\n",
              "      <td>25.800</td>\n",
              "      <td>0</td>\n",
              "      <td>no</td>\n",
              "      <td>southwest</td>\n",
              "    </tr>\n",
              "    <tr>\n",
              "      <th>1337</th>\n",
              "      <td>61</td>\n",
              "      <td>female</td>\n",
              "      <td>29.070</td>\n",
              "      <td>0</td>\n",
              "      <td>yes</td>\n",
              "      <td>northwest</td>\n",
              "    </tr>\n",
              "  </tbody>\n",
              "</table>\n",
              "<p>1338 rows × 6 columns</p>\n",
              "</div>"
            ],
            "text/plain": [
              "      age     sex     bmi  children smoker     region\n",
              "0      19  female  27.900         0    yes  southwest\n",
              "1      18    male  33.770         1     no  southeast\n",
              "2      28    male  33.000         3     no  southeast\n",
              "3      33    male  22.705         0     no  northwest\n",
              "4      32    male  28.880         0     no  northwest\n",
              "...   ...     ...     ...       ...    ...        ...\n",
              "1333   50    male  30.970         3     no  northwest\n",
              "1334   18  female  31.920         0     no  northeast\n",
              "1335   18  female  36.850         0     no  southeast\n",
              "1336   21  female  25.800         0     no  southwest\n",
              "1337   61  female  29.070         0    yes  northwest\n",
              "\n",
              "[1338 rows x 6 columns]"
            ]
          },
          "metadata": {},
          "execution_count": 6
        }
      ]
    },
    {
      "cell_type": "code",
      "metadata": {
        "colab": {
          "base_uri": "https://localhost:8080/",
          "height": 419
        },
        "id": "5rlWHiFCgEob",
        "outputId": "4ecca95b-aeaa-499a-85eb-7974a3107f0d"
      },
      "source": [
        "target"
      ],
      "execution_count": null,
      "outputs": [
        {
          "output_type": "execute_result",
          "data": {
            "text/html": [
              "<div>\n",
              "<style scoped>\n",
              "    .dataframe tbody tr th:only-of-type {\n",
              "        vertical-align: middle;\n",
              "    }\n",
              "\n",
              "    .dataframe tbody tr th {\n",
              "        vertical-align: top;\n",
              "    }\n",
              "\n",
              "    .dataframe thead th {\n",
              "        text-align: right;\n",
              "    }\n",
              "</style>\n",
              "<table border=\"1\" class=\"dataframe\">\n",
              "  <thead>\n",
              "    <tr style=\"text-align: right;\">\n",
              "      <th></th>\n",
              "      <th>charges</th>\n",
              "    </tr>\n",
              "  </thead>\n",
              "  <tbody>\n",
              "    <tr>\n",
              "      <th>0</th>\n",
              "      <td>16884.92400</td>\n",
              "    </tr>\n",
              "    <tr>\n",
              "      <th>1</th>\n",
              "      <td>1725.55230</td>\n",
              "    </tr>\n",
              "    <tr>\n",
              "      <th>2</th>\n",
              "      <td>4449.46200</td>\n",
              "    </tr>\n",
              "    <tr>\n",
              "      <th>3</th>\n",
              "      <td>21984.47061</td>\n",
              "    </tr>\n",
              "    <tr>\n",
              "      <th>4</th>\n",
              "      <td>3866.85520</td>\n",
              "    </tr>\n",
              "    <tr>\n",
              "      <th>...</th>\n",
              "      <td>...</td>\n",
              "    </tr>\n",
              "    <tr>\n",
              "      <th>1333</th>\n",
              "      <td>10600.54830</td>\n",
              "    </tr>\n",
              "    <tr>\n",
              "      <th>1334</th>\n",
              "      <td>2205.98080</td>\n",
              "    </tr>\n",
              "    <tr>\n",
              "      <th>1335</th>\n",
              "      <td>1629.83350</td>\n",
              "    </tr>\n",
              "    <tr>\n",
              "      <th>1336</th>\n",
              "      <td>2007.94500</td>\n",
              "    </tr>\n",
              "    <tr>\n",
              "      <th>1337</th>\n",
              "      <td>29141.36030</td>\n",
              "    </tr>\n",
              "  </tbody>\n",
              "</table>\n",
              "<p>1338 rows × 1 columns</p>\n",
              "</div>"
            ],
            "text/plain": [
              "          charges\n",
              "0     16884.92400\n",
              "1      1725.55230\n",
              "2      4449.46200\n",
              "3     21984.47061\n",
              "4      3866.85520\n",
              "...           ...\n",
              "1333  10600.54830\n",
              "1334   2205.98080\n",
              "1335   1629.83350\n",
              "1336   2007.94500\n",
              "1337  29141.36030\n",
              "\n",
              "[1338 rows x 1 columns]"
            ]
          },
          "metadata": {},
          "execution_count": 7
        }
      ]
    },
    {
      "cell_type": "markdown",
      "source": [
        "**Taking Care of Missing Data**\n",
        "\n",
        "> Here 'sklearn' means sckit learn which is a package used for machine learning model. It contains many libraries.\n",
        "\n",
        "preprocessing is a library which contains several classes,methods. From this library we import the Imputer class which will allow us to take care of the missing data\n",
        "\n"
      ],
      "metadata": {
        "id": "fDgeO1VLvayY"
      }
    },
    {
      "cell_type": "code",
      "metadata": {
        "id": "a2NfvYqVgX6i"
      },
      "source": [
        "from sklearn.impute import SimpleImputer"
      ],
      "execution_count": null,
      "outputs": []
    },
    {
      "cell_type": "code",
      "metadata": {
        "id": "LkbSWBZJgamr"
      },
      "source": [
        "imputer = SimpleImputer(missing_values=np.nan,strategy = \"mean\") # imputer is an object of Imputer class \n",
        "imputer = imputer.fit(features[['age','bmi','children']]) "
      ],
      "execution_count": null,
      "outputs": []
    },
    {
      "cell_type": "markdown",
      "source": [
        "**fit()**: used for generating learning model parameters from training data\n",
        "\n",
        "**transform()** : parameters generated from fit() method,applied upon model to generate transformed data set.\n",
        "\n",
        "**fit_transform()** : combination of fit() and transform() api on same data set"
      ],
      "metadata": {
        "id": "OwzP3Kcpwm7R"
      }
    },
    {
      "cell_type": "markdown",
      "source": [
        "Now we have to replace the missing value by mean into X"
      ],
      "metadata": {
        "id": "Osi3vxQ0w5jX"
      }
    },
    {
      "cell_type": "code",
      "metadata": {
        "id": "Ul2fSFStiPhl"
      },
      "source": [
        "features[['age','bmi','children']]= imputer.transform(features[['age','bmi','children']])"
      ],
      "execution_count": null,
      "outputs": []
    },
    {
      "cell_type": "code",
      "metadata": {
        "colab": {
          "base_uri": "https://localhost:8080/",
          "height": 419
        },
        "id": "4zTe5OMIjF-s",
        "outputId": "52c72fbc-b583-4526-da2c-996a92f18b21"
      },
      "source": [
        "features"
      ],
      "execution_count": null,
      "outputs": [
        {
          "output_type": "execute_result",
          "data": {
            "text/html": [
              "<div>\n",
              "<style scoped>\n",
              "    .dataframe tbody tr th:only-of-type {\n",
              "        vertical-align: middle;\n",
              "    }\n",
              "\n",
              "    .dataframe tbody tr th {\n",
              "        vertical-align: top;\n",
              "    }\n",
              "\n",
              "    .dataframe thead th {\n",
              "        text-align: right;\n",
              "    }\n",
              "</style>\n",
              "<table border=\"1\" class=\"dataframe\">\n",
              "  <thead>\n",
              "    <tr style=\"text-align: right;\">\n",
              "      <th></th>\n",
              "      <th>age</th>\n",
              "      <th>sex</th>\n",
              "      <th>bmi</th>\n",
              "      <th>children</th>\n",
              "      <th>smoker</th>\n",
              "      <th>region</th>\n",
              "    </tr>\n",
              "  </thead>\n",
              "  <tbody>\n",
              "    <tr>\n",
              "      <th>0</th>\n",
              "      <td>19.0</td>\n",
              "      <td>female</td>\n",
              "      <td>27.900</td>\n",
              "      <td>0.0</td>\n",
              "      <td>yes</td>\n",
              "      <td>southwest</td>\n",
              "    </tr>\n",
              "    <tr>\n",
              "      <th>1</th>\n",
              "      <td>18.0</td>\n",
              "      <td>male</td>\n",
              "      <td>33.770</td>\n",
              "      <td>1.0</td>\n",
              "      <td>no</td>\n",
              "      <td>southeast</td>\n",
              "    </tr>\n",
              "    <tr>\n",
              "      <th>2</th>\n",
              "      <td>28.0</td>\n",
              "      <td>male</td>\n",
              "      <td>33.000</td>\n",
              "      <td>3.0</td>\n",
              "      <td>no</td>\n",
              "      <td>southeast</td>\n",
              "    </tr>\n",
              "    <tr>\n",
              "      <th>3</th>\n",
              "      <td>33.0</td>\n",
              "      <td>male</td>\n",
              "      <td>22.705</td>\n",
              "      <td>0.0</td>\n",
              "      <td>no</td>\n",
              "      <td>northwest</td>\n",
              "    </tr>\n",
              "    <tr>\n",
              "      <th>4</th>\n",
              "      <td>32.0</td>\n",
              "      <td>male</td>\n",
              "      <td>28.880</td>\n",
              "      <td>0.0</td>\n",
              "      <td>no</td>\n",
              "      <td>northwest</td>\n",
              "    </tr>\n",
              "    <tr>\n",
              "      <th>...</th>\n",
              "      <td>...</td>\n",
              "      <td>...</td>\n",
              "      <td>...</td>\n",
              "      <td>...</td>\n",
              "      <td>...</td>\n",
              "      <td>...</td>\n",
              "    </tr>\n",
              "    <tr>\n",
              "      <th>1333</th>\n",
              "      <td>50.0</td>\n",
              "      <td>male</td>\n",
              "      <td>30.970</td>\n",
              "      <td>3.0</td>\n",
              "      <td>no</td>\n",
              "      <td>northwest</td>\n",
              "    </tr>\n",
              "    <tr>\n",
              "      <th>1334</th>\n",
              "      <td>18.0</td>\n",
              "      <td>female</td>\n",
              "      <td>31.920</td>\n",
              "      <td>0.0</td>\n",
              "      <td>no</td>\n",
              "      <td>northeast</td>\n",
              "    </tr>\n",
              "    <tr>\n",
              "      <th>1335</th>\n",
              "      <td>18.0</td>\n",
              "      <td>female</td>\n",
              "      <td>36.850</td>\n",
              "      <td>0.0</td>\n",
              "      <td>no</td>\n",
              "      <td>southeast</td>\n",
              "    </tr>\n",
              "    <tr>\n",
              "      <th>1336</th>\n",
              "      <td>21.0</td>\n",
              "      <td>female</td>\n",
              "      <td>25.800</td>\n",
              "      <td>0.0</td>\n",
              "      <td>no</td>\n",
              "      <td>southwest</td>\n",
              "    </tr>\n",
              "    <tr>\n",
              "      <th>1337</th>\n",
              "      <td>61.0</td>\n",
              "      <td>female</td>\n",
              "      <td>29.070</td>\n",
              "      <td>0.0</td>\n",
              "      <td>yes</td>\n",
              "      <td>northwest</td>\n",
              "    </tr>\n",
              "  </tbody>\n",
              "</table>\n",
              "<p>1338 rows × 6 columns</p>\n",
              "</div>"
            ],
            "text/plain": [
              "       age     sex     bmi  children smoker     region\n",
              "0     19.0  female  27.900       0.0    yes  southwest\n",
              "1     18.0    male  33.770       1.0     no  southeast\n",
              "2     28.0    male  33.000       3.0     no  southeast\n",
              "3     33.0    male  22.705       0.0     no  northwest\n",
              "4     32.0    male  28.880       0.0     no  northwest\n",
              "...    ...     ...     ...       ...    ...        ...\n",
              "1333  50.0    male  30.970       3.0     no  northwest\n",
              "1334  18.0  female  31.920       0.0     no  northeast\n",
              "1335  18.0  female  36.850       0.0     no  southeast\n",
              "1336  21.0  female  25.800       0.0     no  southwest\n",
              "1337  61.0  female  29.070       0.0    yes  northwest\n",
              "\n",
              "[1338 rows x 6 columns]"
            ]
          },
          "metadata": {},
          "execution_count": 11
        }
      ]
    },
    {
      "cell_type": "code",
      "metadata": {
        "id": "zQVkzCibyVtD"
      },
      "source": [
        "imputer = SimpleImputer(missing_values=np.nan,strategy = \"mean\") # imputer is an object of Imputer class \n",
        "imputer = imputer.fit(target[['charges']]) "
      ],
      "execution_count": null,
      "outputs": []
    },
    {
      "cell_type": "code",
      "metadata": {
        "id": "JjbNdewpyDY6"
      },
      "source": [
        "target[['charges']]= imputer.transform(target[['charges']])"
      ],
      "execution_count": null,
      "outputs": []
    },
    {
      "cell_type": "code",
      "metadata": {
        "colab": {
          "base_uri": "https://localhost:8080/",
          "height": 419
        },
        "id": "fhuP5tiRygp_",
        "outputId": "8ea7807a-7576-4074-8b04-f55c06e8cfd2"
      },
      "source": [
        "target"
      ],
      "execution_count": null,
      "outputs": [
        {
          "output_type": "execute_result",
          "data": {
            "text/html": [
              "<div>\n",
              "<style scoped>\n",
              "    .dataframe tbody tr th:only-of-type {\n",
              "        vertical-align: middle;\n",
              "    }\n",
              "\n",
              "    .dataframe tbody tr th {\n",
              "        vertical-align: top;\n",
              "    }\n",
              "\n",
              "    .dataframe thead th {\n",
              "        text-align: right;\n",
              "    }\n",
              "</style>\n",
              "<table border=\"1\" class=\"dataframe\">\n",
              "  <thead>\n",
              "    <tr style=\"text-align: right;\">\n",
              "      <th></th>\n",
              "      <th>charges</th>\n",
              "    </tr>\n",
              "  </thead>\n",
              "  <tbody>\n",
              "    <tr>\n",
              "      <th>0</th>\n",
              "      <td>16884.92400</td>\n",
              "    </tr>\n",
              "    <tr>\n",
              "      <th>1</th>\n",
              "      <td>1725.55230</td>\n",
              "    </tr>\n",
              "    <tr>\n",
              "      <th>2</th>\n",
              "      <td>4449.46200</td>\n",
              "    </tr>\n",
              "    <tr>\n",
              "      <th>3</th>\n",
              "      <td>21984.47061</td>\n",
              "    </tr>\n",
              "    <tr>\n",
              "      <th>4</th>\n",
              "      <td>3866.85520</td>\n",
              "    </tr>\n",
              "    <tr>\n",
              "      <th>...</th>\n",
              "      <td>...</td>\n",
              "    </tr>\n",
              "    <tr>\n",
              "      <th>1333</th>\n",
              "      <td>10600.54830</td>\n",
              "    </tr>\n",
              "    <tr>\n",
              "      <th>1334</th>\n",
              "      <td>2205.98080</td>\n",
              "    </tr>\n",
              "    <tr>\n",
              "      <th>1335</th>\n",
              "      <td>1629.83350</td>\n",
              "    </tr>\n",
              "    <tr>\n",
              "      <th>1336</th>\n",
              "      <td>2007.94500</td>\n",
              "    </tr>\n",
              "    <tr>\n",
              "      <th>1337</th>\n",
              "      <td>29141.36030</td>\n",
              "    </tr>\n",
              "  </tbody>\n",
              "</table>\n",
              "<p>1338 rows × 1 columns</p>\n",
              "</div>"
            ],
            "text/plain": [
              "          charges\n",
              "0     16884.92400\n",
              "1      1725.55230\n",
              "2      4449.46200\n",
              "3     21984.47061\n",
              "4      3866.85520\n",
              "...           ...\n",
              "1333  10600.54830\n",
              "1334   2205.98080\n",
              "1335   1629.83350\n",
              "1336   2007.94500\n",
              "1337  29141.36030\n",
              "\n",
              "[1338 rows x 1 columns]"
            ]
          },
          "metadata": {},
          "execution_count": 14
        }
      ]
    },
    {
      "cell_type": "code",
      "metadata": {
        "colab": {
          "base_uri": "https://localhost:8080/"
        },
        "id": "INbRPis3oQLq",
        "outputId": "132a00e9-5e32-42eb-cf4f-65f6de492d39"
      },
      "source": [
        "features['sex'].unique()"
      ],
      "execution_count": null,
      "outputs": [
        {
          "output_type": "execute_result",
          "data": {
            "text/plain": [
              "array(['female', 'male'], dtype=object)"
            ]
          },
          "metadata": {},
          "execution_count": 15
        }
      ]
    },
    {
      "cell_type": "code",
      "metadata": {
        "colab": {
          "base_uri": "https://localhost:8080/"
        },
        "id": "lv-85CMdodJw",
        "outputId": "151e5672-d4e5-42ac-f5e5-efb4c91e6963"
      },
      "source": [
        "features['sex'].value_counts()"
      ],
      "execution_count": null,
      "outputs": [
        {
          "output_type": "execute_result",
          "data": {
            "text/plain": [
              "male      676\n",
              "female    662\n",
              "Name: sex, dtype: int64"
            ]
          },
          "metadata": {},
          "execution_count": 16
        }
      ]
    },
    {
      "cell_type": "code",
      "metadata": {
        "colab": {
          "base_uri": "https://localhost:8080/"
        },
        "id": "oLevzVAGojpI",
        "outputId": "dbb2857e-7d54-43e1-d516-7d85d6e18af3"
      },
      "source": [
        "features['smoker'].unique()"
      ],
      "execution_count": null,
      "outputs": [
        {
          "output_type": "execute_result",
          "data": {
            "text/plain": [
              "array(['yes', 'no'], dtype=object)"
            ]
          },
          "metadata": {},
          "execution_count": 17
        }
      ]
    },
    {
      "cell_type": "code",
      "metadata": {
        "colab": {
          "base_uri": "https://localhost:8080/"
        },
        "id": "b_x31U1ipkF2",
        "outputId": "653dd833-c683-4ac1-86f1-81104ec0937d"
      },
      "source": [
        "features['smoker'].value_counts()"
      ],
      "execution_count": null,
      "outputs": [
        {
          "output_type": "execute_result",
          "data": {
            "text/plain": [
              "no     1064\n",
              "yes     274\n",
              "Name: smoker, dtype: int64"
            ]
          },
          "metadata": {},
          "execution_count": 18
        }
      ]
    },
    {
      "cell_type": "code",
      "metadata": {
        "colab": {
          "base_uri": "https://localhost:8080/"
        },
        "id": "UXIP5DQpypVu",
        "outputId": "4a7a1aae-f2a0-4822-de7d-29073fdfaaf4"
      },
      "source": [
        "features['region'].unique()"
      ],
      "execution_count": null,
      "outputs": [
        {
          "output_type": "execute_result",
          "data": {
            "text/plain": [
              "array(['southwest', 'southeast', 'northwest', 'northeast'], dtype=object)"
            ]
          },
          "metadata": {},
          "execution_count": 19
        }
      ]
    },
    {
      "cell_type": "code",
      "metadata": {
        "colab": {
          "base_uri": "https://localhost:8080/"
        },
        "id": "CNRrDPLMyuHb",
        "outputId": "7a9512fb-03a6-4df3-b36a-244908b7d492"
      },
      "source": [
        "features['region'].value_counts()"
      ],
      "execution_count": null,
      "outputs": [
        {
          "output_type": "execute_result",
          "data": {
            "text/plain": [
              "southeast    364\n",
              "southwest    325\n",
              "northwest    325\n",
              "northeast    324\n",
              "Name: region, dtype: int64"
            ]
          },
          "metadata": {},
          "execution_count": 20
        }
      ]
    },
    {
      "cell_type": "markdown",
      "source": [
        "**Encoding Categorical Data**"
      ],
      "metadata": {
        "id": "fghNf_fpxXPJ"
      }
    },
    {
      "cell_type": "markdown",
      "source": [
        "**One Hot Encoding**\n",
        "\n",
        "> One hot encoder is used to convert the categorical data into numerical, so that they can be used in prediction.\n",
        "\n"
      ],
      "metadata": {
        "id": "DVtMAfdfxlG1"
      }
    },
    {
      "cell_type": "code",
      "metadata": {
        "id": "Tia-G8kKjZqr"
      },
      "source": [
        "from sklearn.preprocessing import LabelEncoder,OneHotEncoder"
      ],
      "execution_count": null,
      "outputs": []
    },
    {
      "cell_type": "code",
      "metadata": {
        "id": "rtPy2QeQsqMn"
      },
      "source": [
        "encoder=OneHotEncoder(sparse=False)\n",
        "encoded_labels = pd.DataFrame (encoder.fit_transform(features[['sex','smoker','region']]))"
      ],
      "execution_count": null,
      "outputs": []
    },
    {
      "cell_type": "code",
      "metadata": {
        "id": "aJxkp5s0ufuK"
      },
      "source": [
        "encoded_labels.columns = encoder.get_feature_names(['sex','smoker','region'])\n",
        "dataset= pd.concat([features, encoded_labels ], axis=1)"
      ],
      "execution_count": null,
      "outputs": []
    },
    {
      "cell_type": "code",
      "metadata": {
        "colab": {
          "base_uri": "https://localhost:8080/",
          "height": 439
        },
        "id": "UchNQx_Bv-EB",
        "outputId": "c9070a2a-3eb2-4e4f-dbd6-f3c5564a7a17"
      },
      "source": [
        "dataset"
      ],
      "execution_count": null,
      "outputs": [
        {
          "output_type": "execute_result",
          "data": {
            "text/html": [
              "<div>\n",
              "<style scoped>\n",
              "    .dataframe tbody tr th:only-of-type {\n",
              "        vertical-align: middle;\n",
              "    }\n",
              "\n",
              "    .dataframe tbody tr th {\n",
              "        vertical-align: top;\n",
              "    }\n",
              "\n",
              "    .dataframe thead th {\n",
              "        text-align: right;\n",
              "    }\n",
              "</style>\n",
              "<table border=\"1\" class=\"dataframe\">\n",
              "  <thead>\n",
              "    <tr style=\"text-align: right;\">\n",
              "      <th></th>\n",
              "      <th>age</th>\n",
              "      <th>sex</th>\n",
              "      <th>bmi</th>\n",
              "      <th>children</th>\n",
              "      <th>smoker</th>\n",
              "      <th>region</th>\n",
              "      <th>sex_female</th>\n",
              "      <th>sex_male</th>\n",
              "      <th>smoker_no</th>\n",
              "      <th>smoker_yes</th>\n",
              "      <th>region_northeast</th>\n",
              "      <th>region_northwest</th>\n",
              "      <th>region_southeast</th>\n",
              "      <th>region_southwest</th>\n",
              "    </tr>\n",
              "  </thead>\n",
              "  <tbody>\n",
              "    <tr>\n",
              "      <th>0</th>\n",
              "      <td>19.0</td>\n",
              "      <td>female</td>\n",
              "      <td>27.900</td>\n",
              "      <td>0.0</td>\n",
              "      <td>yes</td>\n",
              "      <td>southwest</td>\n",
              "      <td>1.0</td>\n",
              "      <td>0.0</td>\n",
              "      <td>0.0</td>\n",
              "      <td>1.0</td>\n",
              "      <td>0.0</td>\n",
              "      <td>0.0</td>\n",
              "      <td>0.0</td>\n",
              "      <td>1.0</td>\n",
              "    </tr>\n",
              "    <tr>\n",
              "      <th>1</th>\n",
              "      <td>18.0</td>\n",
              "      <td>male</td>\n",
              "      <td>33.770</td>\n",
              "      <td>1.0</td>\n",
              "      <td>no</td>\n",
              "      <td>southeast</td>\n",
              "      <td>0.0</td>\n",
              "      <td>1.0</td>\n",
              "      <td>1.0</td>\n",
              "      <td>0.0</td>\n",
              "      <td>0.0</td>\n",
              "      <td>0.0</td>\n",
              "      <td>1.0</td>\n",
              "      <td>0.0</td>\n",
              "    </tr>\n",
              "    <tr>\n",
              "      <th>2</th>\n",
              "      <td>28.0</td>\n",
              "      <td>male</td>\n",
              "      <td>33.000</td>\n",
              "      <td>3.0</td>\n",
              "      <td>no</td>\n",
              "      <td>southeast</td>\n",
              "      <td>0.0</td>\n",
              "      <td>1.0</td>\n",
              "      <td>1.0</td>\n",
              "      <td>0.0</td>\n",
              "      <td>0.0</td>\n",
              "      <td>0.0</td>\n",
              "      <td>1.0</td>\n",
              "      <td>0.0</td>\n",
              "    </tr>\n",
              "    <tr>\n",
              "      <th>3</th>\n",
              "      <td>33.0</td>\n",
              "      <td>male</td>\n",
              "      <td>22.705</td>\n",
              "      <td>0.0</td>\n",
              "      <td>no</td>\n",
              "      <td>northwest</td>\n",
              "      <td>0.0</td>\n",
              "      <td>1.0</td>\n",
              "      <td>1.0</td>\n",
              "      <td>0.0</td>\n",
              "      <td>0.0</td>\n",
              "      <td>1.0</td>\n",
              "      <td>0.0</td>\n",
              "      <td>0.0</td>\n",
              "    </tr>\n",
              "    <tr>\n",
              "      <th>4</th>\n",
              "      <td>32.0</td>\n",
              "      <td>male</td>\n",
              "      <td>28.880</td>\n",
              "      <td>0.0</td>\n",
              "      <td>no</td>\n",
              "      <td>northwest</td>\n",
              "      <td>0.0</td>\n",
              "      <td>1.0</td>\n",
              "      <td>1.0</td>\n",
              "      <td>0.0</td>\n",
              "      <td>0.0</td>\n",
              "      <td>1.0</td>\n",
              "      <td>0.0</td>\n",
              "      <td>0.0</td>\n",
              "    </tr>\n",
              "    <tr>\n",
              "      <th>...</th>\n",
              "      <td>...</td>\n",
              "      <td>...</td>\n",
              "      <td>...</td>\n",
              "      <td>...</td>\n",
              "      <td>...</td>\n",
              "      <td>...</td>\n",
              "      <td>...</td>\n",
              "      <td>...</td>\n",
              "      <td>...</td>\n",
              "      <td>...</td>\n",
              "      <td>...</td>\n",
              "      <td>...</td>\n",
              "      <td>...</td>\n",
              "      <td>...</td>\n",
              "    </tr>\n",
              "    <tr>\n",
              "      <th>1333</th>\n",
              "      <td>50.0</td>\n",
              "      <td>male</td>\n",
              "      <td>30.970</td>\n",
              "      <td>3.0</td>\n",
              "      <td>no</td>\n",
              "      <td>northwest</td>\n",
              "      <td>0.0</td>\n",
              "      <td>1.0</td>\n",
              "      <td>1.0</td>\n",
              "      <td>0.0</td>\n",
              "      <td>0.0</td>\n",
              "      <td>1.0</td>\n",
              "      <td>0.0</td>\n",
              "      <td>0.0</td>\n",
              "    </tr>\n",
              "    <tr>\n",
              "      <th>1334</th>\n",
              "      <td>18.0</td>\n",
              "      <td>female</td>\n",
              "      <td>31.920</td>\n",
              "      <td>0.0</td>\n",
              "      <td>no</td>\n",
              "      <td>northeast</td>\n",
              "      <td>1.0</td>\n",
              "      <td>0.0</td>\n",
              "      <td>1.0</td>\n",
              "      <td>0.0</td>\n",
              "      <td>1.0</td>\n",
              "      <td>0.0</td>\n",
              "      <td>0.0</td>\n",
              "      <td>0.0</td>\n",
              "    </tr>\n",
              "    <tr>\n",
              "      <th>1335</th>\n",
              "      <td>18.0</td>\n",
              "      <td>female</td>\n",
              "      <td>36.850</td>\n",
              "      <td>0.0</td>\n",
              "      <td>no</td>\n",
              "      <td>southeast</td>\n",
              "      <td>1.0</td>\n",
              "      <td>0.0</td>\n",
              "      <td>1.0</td>\n",
              "      <td>0.0</td>\n",
              "      <td>0.0</td>\n",
              "      <td>0.0</td>\n",
              "      <td>1.0</td>\n",
              "      <td>0.0</td>\n",
              "    </tr>\n",
              "    <tr>\n",
              "      <th>1336</th>\n",
              "      <td>21.0</td>\n",
              "      <td>female</td>\n",
              "      <td>25.800</td>\n",
              "      <td>0.0</td>\n",
              "      <td>no</td>\n",
              "      <td>southwest</td>\n",
              "      <td>1.0</td>\n",
              "      <td>0.0</td>\n",
              "      <td>1.0</td>\n",
              "      <td>0.0</td>\n",
              "      <td>0.0</td>\n",
              "      <td>0.0</td>\n",
              "      <td>0.0</td>\n",
              "      <td>1.0</td>\n",
              "    </tr>\n",
              "    <tr>\n",
              "      <th>1337</th>\n",
              "      <td>61.0</td>\n",
              "      <td>female</td>\n",
              "      <td>29.070</td>\n",
              "      <td>0.0</td>\n",
              "      <td>yes</td>\n",
              "      <td>northwest</td>\n",
              "      <td>1.0</td>\n",
              "      <td>0.0</td>\n",
              "      <td>0.0</td>\n",
              "      <td>1.0</td>\n",
              "      <td>0.0</td>\n",
              "      <td>1.0</td>\n",
              "      <td>0.0</td>\n",
              "      <td>0.0</td>\n",
              "    </tr>\n",
              "  </tbody>\n",
              "</table>\n",
              "<p>1338 rows × 14 columns</p>\n",
              "</div>"
            ],
            "text/plain": [
              "       age     sex  ...  region_southeast  region_southwest\n",
              "0     19.0  female  ...               0.0               1.0\n",
              "1     18.0    male  ...               1.0               0.0\n",
              "2     28.0    male  ...               1.0               0.0\n",
              "3     33.0    male  ...               0.0               0.0\n",
              "4     32.0    male  ...               0.0               0.0\n",
              "...    ...     ...  ...               ...               ...\n",
              "1333  50.0    male  ...               0.0               0.0\n",
              "1334  18.0  female  ...               0.0               0.0\n",
              "1335  18.0  female  ...               1.0               0.0\n",
              "1336  21.0  female  ...               0.0               1.0\n",
              "1337  61.0  female  ...               0.0               0.0\n",
              "\n",
              "[1338 rows x 14 columns]"
            ]
          },
          "metadata": {},
          "execution_count": 24
        }
      ]
    },
    {
      "cell_type": "code",
      "metadata": {
        "colab": {
          "base_uri": "https://localhost:8080/"
        },
        "id": "klcJkv9A6MjR",
        "outputId": "4462d682-44a1-4a9c-e202-c7eeee25546a"
      },
      "source": [
        "dataset.columns"
      ],
      "execution_count": null,
      "outputs": [
        {
          "output_type": "execute_result",
          "data": {
            "text/plain": [
              "Index(['age', 'sex', 'bmi', 'children', 'smoker', 'region', 'sex_female',\n",
              "       'sex_male', 'smoker_no', 'smoker_yes', 'region_northeast',\n",
              "       'region_northwest', 'region_southeast', 'region_southwest'],\n",
              "      dtype='object')"
            ]
          },
          "metadata": {},
          "execution_count": 25
        }
      ]
    },
    {
      "cell_type": "code",
      "metadata": {
        "id": "u_50EYp76SjW"
      },
      "source": [
        "new_features = dataset[['age', 'sex_female', 'sex_male',\n",
        "       'smoker_no', 'smoker_yes', 'bmi','children','region_northeast','region_northwest','region_southeast','region_southwest']]"
      ],
      "execution_count": null,
      "outputs": []
    },
    {
      "cell_type": "markdown",
      "source": [
        "**Splitting the dataset**"
      ],
      "metadata": {
        "id": "BRlR64d6yWRE"
      }
    },
    {
      "cell_type": "code",
      "metadata": {
        "id": "k77Lyth2zmH8"
      },
      "source": [
        "from sklearn.model_selection import train_test_split"
      ],
      "execution_count": null,
      "outputs": []
    },
    {
      "cell_type": "code",
      "metadata": {
        "id": "miZHqiX6zo3-"
      },
      "source": [
        "\n",
        "X_train,X_test,y_train,y_test=train_test_split(new_features,target,test_size=0.3,random_state=0)\n",
        "# random_state = 0 is select to get the same result"
      ],
      "execution_count": null,
      "outputs": []
    },
    {
      "cell_type": "code",
      "metadata": {
        "colab": {
          "base_uri": "https://localhost:8080/"
        },
        "id": "ka9Sqfc4z5c3",
        "outputId": "8c97155e-6a0f-4095-d0b5-01d5516ac23f"
      },
      "source": [
        "print(X_train.shape)\n",
        "print(X_test.shape)"
      ],
      "execution_count": null,
      "outputs": [
        {
          "output_type": "stream",
          "name": "stdout",
          "text": [
            "(936, 11)\n",
            "(402, 11)\n"
          ]
        }
      ]
    },
    {
      "cell_type": "code",
      "metadata": {
        "colab": {
          "base_uri": "https://localhost:8080/",
          "height": 419
        },
        "id": "_38hPrGC0CSO",
        "outputId": "e3c4cb15-de0d-46d5-bef1-23af930214e1"
      },
      "source": [
        "X_train"
      ],
      "execution_count": null,
      "outputs": [
        {
          "output_type": "execute_result",
          "data": {
            "text/html": [
              "<div>\n",
              "<style scoped>\n",
              "    .dataframe tbody tr th:only-of-type {\n",
              "        vertical-align: middle;\n",
              "    }\n",
              "\n",
              "    .dataframe tbody tr th {\n",
              "        vertical-align: top;\n",
              "    }\n",
              "\n",
              "    .dataframe thead th {\n",
              "        text-align: right;\n",
              "    }\n",
              "</style>\n",
              "<table border=\"1\" class=\"dataframe\">\n",
              "  <thead>\n",
              "    <tr style=\"text-align: right;\">\n",
              "      <th></th>\n",
              "      <th>age</th>\n",
              "      <th>sex_female</th>\n",
              "      <th>sex_male</th>\n",
              "      <th>smoker_no</th>\n",
              "      <th>smoker_yes</th>\n",
              "      <th>bmi</th>\n",
              "      <th>children</th>\n",
              "      <th>region_northeast</th>\n",
              "      <th>region_northwest</th>\n",
              "      <th>region_southeast</th>\n",
              "      <th>region_southwest</th>\n",
              "    </tr>\n",
              "  </thead>\n",
              "  <tbody>\n",
              "    <tr>\n",
              "      <th>1163</th>\n",
              "      <td>18.0</td>\n",
              "      <td>1.0</td>\n",
              "      <td>0.0</td>\n",
              "      <td>1.0</td>\n",
              "      <td>0.0</td>\n",
              "      <td>28.215</td>\n",
              "      <td>0.0</td>\n",
              "      <td>1.0</td>\n",
              "      <td>0.0</td>\n",
              "      <td>0.0</td>\n",
              "      <td>0.0</td>\n",
              "    </tr>\n",
              "    <tr>\n",
              "      <th>196</th>\n",
              "      <td>39.0</td>\n",
              "      <td>1.0</td>\n",
              "      <td>0.0</td>\n",
              "      <td>1.0</td>\n",
              "      <td>0.0</td>\n",
              "      <td>32.800</td>\n",
              "      <td>0.0</td>\n",
              "      <td>0.0</td>\n",
              "      <td>0.0</td>\n",
              "      <td>0.0</td>\n",
              "      <td>1.0</td>\n",
              "    </tr>\n",
              "    <tr>\n",
              "      <th>438</th>\n",
              "      <td>52.0</td>\n",
              "      <td>1.0</td>\n",
              "      <td>0.0</td>\n",
              "      <td>1.0</td>\n",
              "      <td>0.0</td>\n",
              "      <td>46.750</td>\n",
              "      <td>5.0</td>\n",
              "      <td>0.0</td>\n",
              "      <td>0.0</td>\n",
              "      <td>1.0</td>\n",
              "      <td>0.0</td>\n",
              "    </tr>\n",
              "    <tr>\n",
              "      <th>183</th>\n",
              "      <td>44.0</td>\n",
              "      <td>1.0</td>\n",
              "      <td>0.0</td>\n",
              "      <td>1.0</td>\n",
              "      <td>0.0</td>\n",
              "      <td>26.410</td>\n",
              "      <td>0.0</td>\n",
              "      <td>0.0</td>\n",
              "      <td>1.0</td>\n",
              "      <td>0.0</td>\n",
              "      <td>0.0</td>\n",
              "    </tr>\n",
              "    <tr>\n",
              "      <th>1298</th>\n",
              "      <td>33.0</td>\n",
              "      <td>0.0</td>\n",
              "      <td>1.0</td>\n",
              "      <td>1.0</td>\n",
              "      <td>0.0</td>\n",
              "      <td>27.455</td>\n",
              "      <td>2.0</td>\n",
              "      <td>0.0</td>\n",
              "      <td>1.0</td>\n",
              "      <td>0.0</td>\n",
              "      <td>0.0</td>\n",
              "    </tr>\n",
              "    <tr>\n",
              "      <th>...</th>\n",
              "      <td>...</td>\n",
              "      <td>...</td>\n",
              "      <td>...</td>\n",
              "      <td>...</td>\n",
              "      <td>...</td>\n",
              "      <td>...</td>\n",
              "      <td>...</td>\n",
              "      <td>...</td>\n",
              "      <td>...</td>\n",
              "      <td>...</td>\n",
              "      <td>...</td>\n",
              "    </tr>\n",
              "    <tr>\n",
              "      <th>763</th>\n",
              "      <td>27.0</td>\n",
              "      <td>0.0</td>\n",
              "      <td>1.0</td>\n",
              "      <td>1.0</td>\n",
              "      <td>0.0</td>\n",
              "      <td>26.030</td>\n",
              "      <td>0.0</td>\n",
              "      <td>1.0</td>\n",
              "      <td>0.0</td>\n",
              "      <td>0.0</td>\n",
              "      <td>0.0</td>\n",
              "    </tr>\n",
              "    <tr>\n",
              "      <th>835</th>\n",
              "      <td>42.0</td>\n",
              "      <td>0.0</td>\n",
              "      <td>1.0</td>\n",
              "      <td>1.0</td>\n",
              "      <td>0.0</td>\n",
              "      <td>35.970</td>\n",
              "      <td>2.0</td>\n",
              "      <td>0.0</td>\n",
              "      <td>0.0</td>\n",
              "      <td>1.0</td>\n",
              "      <td>0.0</td>\n",
              "    </tr>\n",
              "    <tr>\n",
              "      <th>1216</th>\n",
              "      <td>40.0</td>\n",
              "      <td>0.0</td>\n",
              "      <td>1.0</td>\n",
              "      <td>1.0</td>\n",
              "      <td>0.0</td>\n",
              "      <td>25.080</td>\n",
              "      <td>0.0</td>\n",
              "      <td>0.0</td>\n",
              "      <td>0.0</td>\n",
              "      <td>1.0</td>\n",
              "      <td>0.0</td>\n",
              "    </tr>\n",
              "    <tr>\n",
              "      <th>559</th>\n",
              "      <td>19.0</td>\n",
              "      <td>0.0</td>\n",
              "      <td>1.0</td>\n",
              "      <td>1.0</td>\n",
              "      <td>0.0</td>\n",
              "      <td>35.530</td>\n",
              "      <td>0.0</td>\n",
              "      <td>0.0</td>\n",
              "      <td>1.0</td>\n",
              "      <td>0.0</td>\n",
              "      <td>0.0</td>\n",
              "    </tr>\n",
              "    <tr>\n",
              "      <th>684</th>\n",
              "      <td>33.0</td>\n",
              "      <td>1.0</td>\n",
              "      <td>0.0</td>\n",
              "      <td>1.0</td>\n",
              "      <td>0.0</td>\n",
              "      <td>18.500</td>\n",
              "      <td>1.0</td>\n",
              "      <td>0.0</td>\n",
              "      <td>0.0</td>\n",
              "      <td>0.0</td>\n",
              "      <td>1.0</td>\n",
              "    </tr>\n",
              "  </tbody>\n",
              "</table>\n",
              "<p>936 rows × 11 columns</p>\n",
              "</div>"
            ],
            "text/plain": [
              "       age  sex_female  ...  region_southeast  region_southwest\n",
              "1163  18.0         1.0  ...               0.0               0.0\n",
              "196   39.0         1.0  ...               0.0               1.0\n",
              "438   52.0         1.0  ...               1.0               0.0\n",
              "183   44.0         1.0  ...               0.0               0.0\n",
              "1298  33.0         0.0  ...               0.0               0.0\n",
              "...    ...         ...  ...               ...               ...\n",
              "763   27.0         0.0  ...               0.0               0.0\n",
              "835   42.0         0.0  ...               1.0               0.0\n",
              "1216  40.0         0.0  ...               1.0               0.0\n",
              "559   19.0         0.0  ...               0.0               0.0\n",
              "684   33.0         1.0  ...               0.0               1.0\n",
              "\n",
              "[936 rows x 11 columns]"
            ]
          },
          "metadata": {},
          "execution_count": 31
        }
      ]
    },
    {
      "cell_type": "markdown",
      "source": [
        "**Fitting Multiple Linear Regression Model to Training Set**\n",
        "\n",
        "\n",
        "> Different types of Regression Algorithm\n",
        "\n",
        "\n",
        "\n",
        "1. Linear Regression (Univariate or Multivariate)\n",
        "2. Support Vector Regression\n",
        "3. Decision Tree Regression\n",
        "4. Random Forest Regressrion"
      ],
      "metadata": {
        "id": "Ifi82xuHyz5O"
      }
    },
    {
      "cell_type": "markdown",
      "source": [
        "**Multivariate Linear Regression**"
      ],
      "metadata": {
        "id": "j_JJfsByzloJ"
      }
    },
    {
      "cell_type": "code",
      "metadata": {
        "id": "6Nkrbl6m9f5i"
      },
      "source": [
        "\n",
        "from sklearn.linear_model import LinearRegression\n",
        "\n",
        "regressor = LinearRegression()\n",
        "regressor.fit(X_train,y_train)\n",
        "\n",
        "# Predicting the Test Set Results\n",
        "y_pred = regressor.predict(X_test)"
      ],
      "execution_count": null,
      "outputs": []
    },
    {
      "cell_type": "code",
      "metadata": {
        "colab": {
          "base_uri": "https://localhost:8080/",
          "height": 419
        },
        "id": "bxrRxKzC9n5b",
        "outputId": "c4b5b546-50a5-4e53-caa5-528bfb69e21e"
      },
      "source": [
        "y_test"
      ],
      "execution_count": null,
      "outputs": [
        {
          "output_type": "execute_result",
          "data": {
            "text/html": [
              "<div>\n",
              "<style scoped>\n",
              "    .dataframe tbody tr th:only-of-type {\n",
              "        vertical-align: middle;\n",
              "    }\n",
              "\n",
              "    .dataframe tbody tr th {\n",
              "        vertical-align: top;\n",
              "    }\n",
              "\n",
              "    .dataframe thead th {\n",
              "        text-align: right;\n",
              "    }\n",
              "</style>\n",
              "<table border=\"1\" class=\"dataframe\">\n",
              "  <thead>\n",
              "    <tr style=\"text-align: right;\">\n",
              "      <th></th>\n",
              "      <th>charges</th>\n",
              "    </tr>\n",
              "  </thead>\n",
              "  <tbody>\n",
              "    <tr>\n",
              "      <th>578</th>\n",
              "      <td>9724.53000</td>\n",
              "    </tr>\n",
              "    <tr>\n",
              "      <th>610</th>\n",
              "      <td>8547.69130</td>\n",
              "    </tr>\n",
              "    <tr>\n",
              "      <th>569</th>\n",
              "      <td>45702.02235</td>\n",
              "    </tr>\n",
              "    <tr>\n",
              "      <th>1034</th>\n",
              "      <td>12950.07120</td>\n",
              "    </tr>\n",
              "    <tr>\n",
              "      <th>198</th>\n",
              "      <td>9644.25250</td>\n",
              "    </tr>\n",
              "    <tr>\n",
              "      <th>...</th>\n",
              "      <td>...</td>\n",
              "    </tr>\n",
              "    <tr>\n",
              "      <th>1261</th>\n",
              "      <td>3277.16100</td>\n",
              "    </tr>\n",
              "    <tr>\n",
              "      <th>494</th>\n",
              "      <td>17942.10600</td>\n",
              "    </tr>\n",
              "    <tr>\n",
              "      <th>97</th>\n",
              "      <td>10226.28420</td>\n",
              "    </tr>\n",
              "    <tr>\n",
              "      <th>418</th>\n",
              "      <td>14418.28040</td>\n",
              "    </tr>\n",
              "    <tr>\n",
              "      <th>920</th>\n",
              "      <td>13451.12200</td>\n",
              "    </tr>\n",
              "  </tbody>\n",
              "</table>\n",
              "<p>402 rows × 1 columns</p>\n",
              "</div>"
            ],
            "text/plain": [
              "          charges\n",
              "578    9724.53000\n",
              "610    8547.69130\n",
              "569   45702.02235\n",
              "1034  12950.07120\n",
              "198    9644.25250\n",
              "...           ...\n",
              "1261   3277.16100\n",
              "494   17942.10600\n",
              "97    10226.28420\n",
              "418   14418.28040\n",
              "920   13451.12200\n",
              "\n",
              "[402 rows x 1 columns]"
            ]
          },
          "metadata": {},
          "execution_count": 33
        }
      ]
    },
    {
      "cell_type": "code",
      "metadata": {
        "colab": {
          "base_uri": "https://localhost:8080/"
        },
        "id": "k4i9QtUa9wnM",
        "outputId": "281cc367-8933-44bc-e5df-7dacaec9618c"
      },
      "source": [
        "y_pred"
      ],
      "execution_count": null,
      "outputs": [
        {
          "output_type": "execute_result",
          "data": {
            "text/plain": [
              "array([[ 1.12531936e+04],\n",
              "       [ 9.54490709e+03],\n",
              "       [ 3.78498010e+04],\n",
              "       [ 1.60692697e+04],\n",
              "       [ 6.73440872e+03],\n",
              "       [ 4.00446268e+03],\n",
              "       [ 1.60576551e+03],\n",
              "       [ 1.43015300e+04],\n",
              "       [ 8.89696521e+03],\n",
              "       [ 7.34111088e+03],\n",
              "       [ 4.67363726e+03],\n",
              "       [ 1.01633582e+04],\n",
              "       [ 8.89221066e+03],\n",
              "       [ 3.78513354e+03],\n",
              "       [ 2.74730092e+04],\n",
              "       [ 1.08538364e+04],\n",
              "       [ 1.10975451e+04],\n",
              "       [ 6.15331614e+03],\n",
              "       [ 8.05810804e+03],\n",
              "       [ 2.69726437e+04],\n",
              "       [ 3.33303371e+04],\n",
              "       [ 1.42507758e+04],\n",
              "       [ 1.18538537e+04],\n",
              "       [ 3.19917201e+04],\n",
              "       [ 4.08938830e+03],\n",
              "       [ 9.31679198e+03],\n",
              "       [ 1.14341410e+03],\n",
              "       [ 9.91266828e+03],\n",
              "       [ 3.75184042e+03],\n",
              "       [ 1.02673370e+04],\n",
              "       [ 8.90007511e+03],\n",
              "       [ 3.99578709e+04],\n",
              "       [ 1.57594956e+04],\n",
              "       [ 1.39309106e+04],\n",
              "       [ 2.46369056e+04],\n",
              "       [ 5.22461192e+03],\n",
              "       [ 1.26648825e+04],\n",
              "       [ 3.06140223e+04],\n",
              "       [ 3.32333392e+04],\n",
              "       [ 3.66174044e+03],\n",
              "       [ 4.05511934e+03],\n",
              "       [ 3.92923473e+03],\n",
              "       [ 3.04112144e+04],\n",
              "       [ 3.92034732e+04],\n",
              "       [ 2.75801212e+04],\n",
              "       [ 4.89321443e+03],\n",
              "       [ 1.07431646e+04],\n",
              "       [ 7.62347812e+03],\n",
              "       [ 3.69013781e+03],\n",
              "       [ 1.03016223e+04],\n",
              "       [ 5.75534832e+03],\n",
              "       [ 3.26005023e+03],\n",
              "       [ 3.29256311e+04],\n",
              "       [ 3.85224428e+04],\n",
              "       [ 1.60985154e+04],\n",
              "       [ 7.18113917e+03],\n",
              "       [ 5.66848906e+03],\n",
              "       [ 9.23411197e+03],\n",
              "       [ 9.07128678e+03],\n",
              "       [ 1.15702549e+04],\n",
              "       [ 1.81506050e+03],\n",
              "       [ 3.86628808e+04],\n",
              "       [ 1.50307211e+04],\n",
              "       [ 1.19173076e+04],\n",
              "       [ 1.42644074e+04],\n",
              "       [ 1.41632373e+04],\n",
              "       [ 2.55755740e+04],\n",
              "       [ 3.18922042e+04],\n",
              "       [ 8.41734602e+02],\n",
              "       [ 1.00580196e+04],\n",
              "       [ 1.24652115e+04],\n",
              "       [ 1.15821370e+04],\n",
              "       [ 2.50379704e+04],\n",
              "       [ 1.56837251e+04],\n",
              "       [ 1.10495116e+04],\n",
              "       [ 1.27902351e+04],\n",
              "       [ 6.59245550e+03],\n",
              "       [ 9.64345096e+03],\n",
              "       [ 3.01318595e+04],\n",
              "       [ 3.90428552e+04],\n",
              "       [ 1.21786741e+04],\n",
              "       [ 3.71267082e+04],\n",
              "       [ 3.96552317e+03],\n",
              "       [ 9.45814552e+03],\n",
              "       [ 3.47770715e+04],\n",
              "       [ 2.87074484e+04],\n",
              "       [ 8.72492147e+03],\n",
              "       [ 4.64080428e+03],\n",
              "       [ 1.21427453e+04],\n",
              "       [ 3.02852775e+04],\n",
              "       [ 1.02460382e+04],\n",
              "       [ 1.14491795e+04],\n",
              "       [ 8.43470342e+03],\n",
              "       [ 8.98827762e+03],\n",
              "       [ 8.46487135e+03],\n",
              "       [ 7.42087496e+03],\n",
              "       [ 3.59478843e+04],\n",
              "       [ 3.31104110e+04],\n",
              "       [ 7.48942896e+03],\n",
              "       [ 1.51934533e+04],\n",
              "       [ 3.94002717e+03],\n",
              "       [ 8.60181033e+03],\n",
              "       [ 6.36273313e+03],\n",
              "       [ 3.13368193e+04],\n",
              "       [ 3.26739502e+04],\n",
              "       [ 1.72692023e+03],\n",
              "       [ 9.08973615e+03],\n",
              "       [ 6.44376434e+03],\n",
              "       [ 1.46830422e+04],\n",
              "       [ 3.71399182e+04],\n",
              "       [ 1.00688067e+04],\n",
              "       [ 1.05908983e+04],\n",
              "       [ 1.00698592e+04],\n",
              "       [ 2.68102335e+04],\n",
              "       [ 3.97770153e+04],\n",
              "       [ 8.59436893e+03],\n",
              "       [ 2.97232951e+02],\n",
              "       [ 9.06028430e+03],\n",
              "       [ 1.53622884e+04],\n",
              "       [ 9.40347912e+03],\n",
              "       [ 3.50664652e+04],\n",
              "       [ 7.08642436e+03],\n",
              "       [ 1.70912622e+04],\n",
              "       [ 9.78120073e+03],\n",
              "       [ 8.34376033e+03],\n",
              "       [ 2.77102990e+03],\n",
              "       [ 3.28873743e+04],\n",
              "       [ 3.11545232e+04],\n",
              "       [ 3.95210386e+04],\n",
              "       [ 5.30209082e+03],\n",
              "       [ 9.39587293e+03],\n",
              "       [ 3.53635630e+03],\n",
              "       [ 7.67967525e+03],\n",
              "       [ 8.71432596e+03],\n",
              "       [ 3.15850467e+04],\n",
              "       [ 2.98018584e+04],\n",
              "       [ 2.95921688e+04],\n",
              "       [ 8.83172153e+03],\n",
              "       [ 3.23429657e+04],\n",
              "       [ 3.10166531e+03],\n",
              "       [ 3.43647891e+03],\n",
              "       [ 1.09304700e+04],\n",
              "       [ 1.32128453e+04],\n",
              "       [ 1.29563790e+04],\n",
              "       [ 5.22153387e+03],\n",
              "       [ 1.56450358e+04],\n",
              "       [ 1.50200213e+04],\n",
              "       [ 2.22007913e+03],\n",
              "       [-2.76529916e+02],\n",
              "       [ 1.09758641e+04],\n",
              "       [ 7.52578485e+03],\n",
              "       [ 3.16112422e+04],\n",
              "       [ 1.25004822e+04],\n",
              "       [ 2.28207597e+03],\n",
              "       [ 6.23341827e+03],\n",
              "       [ 7.89742136e+03],\n",
              "       [ 4.18335247e+03],\n",
              "       [ 2.06073238e+03],\n",
              "       [ 1.12732692e+04],\n",
              "       [ 1.24474266e+04],\n",
              "       [ 7.38703123e+03],\n",
              "       [ 1.64126797e+04],\n",
              "       [ 1.16548528e+04],\n",
              "       [ 1.41827644e+04],\n",
              "       [ 3.25239799e+03],\n",
              "       [ 7.44089536e+03],\n",
              "       [ 2.29510149e+04],\n",
              "       [ 7.75939841e+03],\n",
              "       [ 5.55574972e+03],\n",
              "       [ 5.14017616e+03],\n",
              "       [ 6.54358067e+03],\n",
              "       [ 5.29101323e+03],\n",
              "       [ 9.86573296e+03],\n",
              "       [ 5.30318056e+03],\n",
              "       [ 5.82126396e+03],\n",
              "       [ 6.71264320e+03],\n",
              "       [ 3.79359032e+03],\n",
              "       [ 5.35674887e+03],\n",
              "       [ 3.81050149e+04],\n",
              "       [ 1.49449863e+03],\n",
              "       [ 1.25241127e+04],\n",
              "       [ 8.81600344e+03],\n",
              "       [ 1.35779650e+04],\n",
              "       [ 5.33467494e+03],\n",
              "       [ 5.30034294e+03],\n",
              "       [ 3.64048098e+04],\n",
              "       [ 4.39998407e+03],\n",
              "       [ 2.07683907e+03],\n",
              "       [ 1.50700993e+04],\n",
              "       [ 1.28583285e+04],\n",
              "       [ 3.50480278e+04],\n",
              "       [ 4.81692549e+03],\n",
              "       [ 5.75568624e+03],\n",
              "       [ 3.10570003e+04],\n",
              "       [ 5.91365180e+03],\n",
              "       [ 2.12466743e+03],\n",
              "       [ 8.55473411e+03],\n",
              "       [ 1.02157331e+04],\n",
              "       [ 8.01035514e+03],\n",
              "       [ 5.56732969e+03],\n",
              "       [ 1.33173353e+04],\n",
              "       [ 3.83325588e+04],\n",
              "       [ 1.36438797e+04],\n",
              "       [ 2.88073730e+04],\n",
              "       [ 6.57855063e+03],\n",
              "       [ 3.54156777e+04],\n",
              "       [ 3.85264559e+03],\n",
              "       [ 1.18931235e+04],\n",
              "       [ 9.11693680e+03],\n",
              "       [ 6.16245674e+03],\n",
              "       [ 1.11692747e+04],\n",
              "       [ 1.47049487e+04],\n",
              "       [ 5.02634820e+03],\n",
              "       [ 4.46458369e+03],\n",
              "       [ 7.96288703e+03],\n",
              "       [ 1.31978165e+03],\n",
              "       [ 8.00636697e+03],\n",
              "       [ 4.52316428e+03],\n",
              "       [ 1.30510837e+04],\n",
              "       [ 4.39675270e+03],\n",
              "       [ 1.02462007e+04],\n",
              "       [ 7.38951728e+03],\n",
              "       [ 9.36630903e+03],\n",
              "       [ 2.44501178e+03],\n",
              "       [ 1.33392136e+04],\n",
              "       [ 1.66792757e+04],\n",
              "       [ 1.50554402e+04],\n",
              "       [ 1.06897979e+04],\n",
              "       [ 5.36806605e+03],\n",
              "       [ 2.16568099e+03],\n",
              "       [ 1.84625678e+03],\n",
              "       [ 1.36078096e+04],\n",
              "       [ 1.41046244e+04],\n",
              "       [ 5.18518795e+03],\n",
              "       [ 3.78006430e+03],\n",
              "       [ 9.57585167e+03],\n",
              "       [ 1.01219994e+04],\n",
              "       [ 2.81258257e+04],\n",
              "       [ 7.73311859e+03],\n",
              "       [ 1.06662041e+04],\n",
              "       [ 6.36597477e+03],\n",
              "       [ 2.94855951e+04],\n",
              "       [ 1.12667069e+04],\n",
              "       [ 7.60247088e+03],\n",
              "       [ 1.00997356e+04],\n",
              "       [ 1.20691312e+04],\n",
              "       [ 3.08178430e+03],\n",
              "       [ 1.06992857e+04],\n",
              "       [ 1.58012525e+03],\n",
              "       [ 7.13244227e+03],\n",
              "       [ 2.82894803e+04],\n",
              "       [ 3.87009694e+04],\n",
              "       [ 6.44760486e+03],\n",
              "       [ 8.18263663e+03],\n",
              "       [ 2.56156737e+03],\n",
              "       [ 4.43116587e+02],\n",
              "       [ 1.06319373e+04],\n",
              "       [ 4.14413001e+03],\n",
              "       [ 4.80964514e+03],\n",
              "       [ 2.35032467e+03],\n",
              "       [ 6.90487999e+03],\n",
              "       [ 3.33519011e+04],\n",
              "       [ 3.81889733e+04],\n",
              "       [ 1.46742863e+04],\n",
              "       [ 8.06796404e+03],\n",
              "       [ 1.62426303e+04],\n",
              "       [ 3.28132879e+04],\n",
              "       [ 9.64677964e+03],\n",
              "       [ 3.35687219e+04],\n",
              "       [ 3.28499010e+03],\n",
              "       [ 3.07421002e+04],\n",
              "       [ 8.27403986e+03],\n",
              "       [ 1.43749371e+04],\n",
              "       [ 3.94363238e+03],\n",
              "       [ 3.20677633e+04],\n",
              "       [ 8.50722697e+03],\n",
              "       [ 1.12272940e+04],\n",
              "       [ 9.17836109e+03],\n",
              "       [ 4.02094225e+03],\n",
              "       [ 1.28491704e+04],\n",
              "       [ 1.15880228e+04],\n",
              "       [ 8.28529095e+03],\n",
              "       [ 1.34436097e+04],\n",
              "       [ 2.88016799e+03],\n",
              "       [ 1.07598245e+04],\n",
              "       [ 5.60040795e+03],\n",
              "       [ 1.10443396e+04],\n",
              "       [ 3.15748920e+04],\n",
              "       [ 9.86714924e+03],\n",
              "       [ 1.27147820e+03],\n",
              "       [ 2.86568919e+02],\n",
              "       [ 3.99183572e+04],\n",
              "       [ 9.82112709e+03],\n",
              "       [ 6.98485911e+03],\n",
              "       [ 1.38987602e+04],\n",
              "       [ 1.36056308e+04],\n",
              "       [ 2.72298367e+04],\n",
              "       [ 7.28448164e+03],\n",
              "       [ 6.99440177e+03],\n",
              "       [ 1.22798274e+04],\n",
              "       [ 2.68645584e+03],\n",
              "       [ 3.63656263e+03],\n",
              "       [ 2.49800939e+04],\n",
              "       [ 2.58300744e+04],\n",
              "       [ 1.31031820e+04],\n",
              "       [ 3.32140682e+03],\n",
              "       [ 4.86248281e+03],\n",
              "       [ 9.49806860e+03],\n",
              "       [ 1.26028085e+04],\n",
              "       [ 2.34806136e+04],\n",
              "       [ 3.05185854e+04],\n",
              "       [ 1.02915974e+04],\n",
              "       [ 2.36864639e+04],\n",
              "       [ 2.70214254e+03],\n",
              "       [ 1.13613494e+04],\n",
              "       [ 7.31417605e+03],\n",
              "       [ 8.37333217e+03],\n",
              "       [-1.20090918e+01],\n",
              "       [ 7.87352474e+03],\n",
              "       [ 3.53845654e+04],\n",
              "       [ 6.34875226e+03],\n",
              "       [ 6.42543828e+03],\n",
              "       [ 2.58973345e+01],\n",
              "       [ 1.06566943e+04],\n",
              "       [ 6.52223275e+03],\n",
              "       [ 9.67955134e+03],\n",
              "       [ 3.90212856e+04],\n",
              "       [ 2.73398516e+04],\n",
              "       [ 1.16690107e+04],\n",
              "       [ 3.52946768e+04],\n",
              "       [ 1.52284127e+04],\n",
              "       [ 6.70599088e+03],\n",
              "       [ 1.07444457e+04],\n",
              "       [ 7.07603187e+03],\n",
              "       [ 3.64305215e+04],\n",
              "       [ 5.77215659e+03],\n",
              "       [ 1.11987869e+04],\n",
              "       [ 9.12757093e+02],\n",
              "       [ 2.39243545e+04],\n",
              "       [ 1.72536528e+03],\n",
              "       [ 3.44370930e+04],\n",
              "       [ 1.11893513e+04],\n",
              "       [ 1.64284856e+03],\n",
              "       [ 3.23084344e+04],\n",
              "       [ 6.83933850e+03],\n",
              "       [ 5.38358717e+03],\n",
              "       [ 3.77008671e+04],\n",
              "       [ 2.38518793e+03],\n",
              "       [ 9.73769497e+03],\n",
              "       [ 2.51677325e+03],\n",
              "       [ 1.29924006e+04],\n",
              "       [ 1.14558043e+03],\n",
              "       [ 1.09157187e+04],\n",
              "       [ 6.82118928e+03],\n",
              "       [ 3.65819756e+04],\n",
              "       [ 7.32055769e+03],\n",
              "       [ 3.03617950e+04],\n",
              "       [ 2.92892602e+04],\n",
              "       [ 6.82053534e+03],\n",
              "       [ 1.09348851e+04],\n",
              "       [ 1.76251405e+03],\n",
              "       [ 2.37139310e+03],\n",
              "       [ 3.67942218e+03],\n",
              "       [ 1.26348376e+04],\n",
              "       [ 3.68242957e+04],\n",
              "       [ 9.88276212e+03],\n",
              "       [ 5.21130967e+02],\n",
              "       [ 1.15304510e+04],\n",
              "       [ 4.96731683e+03],\n",
              "       [ 1.00055528e+04],\n",
              "       [ 5.74380019e+03],\n",
              "       [ 7.07572800e+03],\n",
              "       [ 4.03843476e+03],\n",
              "       [ 2.82570712e+04],\n",
              "       [ 4.44634108e+03],\n",
              "       [-1.24189730e+03],\n",
              "       [ 3.29513389e+04],\n",
              "       [ 1.26555619e+04],\n",
              "       [ 3.59905000e+04],\n",
              "       [ 1.00050499e+04],\n",
              "       [ 7.57606854e+03],\n",
              "       [-2.70310110e+02],\n",
              "       [ 2.44881699e+03],\n",
              "       [ 1.17300960e+04],\n",
              "       [ 5.85414692e+03],\n",
              "       [ 3.48550916e+03],\n",
              "       [ 1.22947034e+04],\n",
              "       [ 7.91825176e+03],\n",
              "       [ 7.10941145e+03],\n",
              "       [ 5.62219064e+03],\n",
              "       [ 2.93138277e+03],\n",
              "       [ 3.20691197e+04],\n",
              "       [ 3.42234717e+03],\n",
              "       [ 8.77246198e+03],\n",
              "       [ 4.58681719e+03],\n",
              "       [ 1.32668158e+04],\n",
              "       [ 1.49586949e+04],\n",
              "       [ 7.41278952e+03],\n",
              "       [ 2.66486545e+04],\n",
              "       [ 1.40642726e+04],\n",
              "       [ 1.71400262e+04],\n",
              "       [ 1.16484659e+04]])"
            ]
          },
          "metadata": {},
          "execution_count": 34
        }
      ]
    },
    {
      "cell_type": "markdown",
      "source": [
        "**Evaluation Metrices**\n",
        "\n",
        "1. Mean Absolute Error (MAE)\n",
        "2. Mean Squared Error (MSE)\n",
        "3. R-Squared Error"
      ],
      "metadata": {
        "id": "TcyN22Wd0DYD"
      }
    },
    {
      "cell_type": "code",
      "metadata": {
        "colab": {
          "base_uri": "https://localhost:8080/"
        },
        "id": "oofgajU4Fwts",
        "outputId": "849c9148-36c8-450c-ddac-80c8fa1d9c2b"
      },
      "source": [
        "from sklearn.metrics import mean_absolute_error\n",
        "\n",
        "# MAE\n",
        "\n",
        "mean_absolute_error(y_test, y_pred)"
      ],
      "execution_count": null,
      "outputs": [
        {
          "output_type": "execute_result",
          "data": {
            "text/plain": [
              "4011.449679327985"
            ]
          },
          "metadata": {},
          "execution_count": 35
        }
      ]
    },
    {
      "cell_type": "code",
      "metadata": {
        "colab": {
          "base_uri": "https://localhost:8080/"
        },
        "id": "EGfEp3ZkF2Ur",
        "outputId": "c4d7c42f-0fa3-437a-d071-eb9232cce4f3"
      },
      "source": [
        "from sklearn.metrics import mean_squared_error\n",
        "\n",
        "mean_squared_error(y_test, y_pred)"
      ],
      "execution_count": null,
      "outputs": [
        {
          "output_type": "execute_result",
          "data": {
            "text/plain": [
              "33342497.82695458"
            ]
          },
          "metadata": {},
          "execution_count": 36
        }
      ]
    },
    {
      "cell_type": "code",
      "metadata": {
        "colab": {
          "base_uri": "https://localhost:8080/"
        },
        "id": "0vwycspaF-dG",
        "outputId": "9d0a0da7-6668-4379-c65c-92744845f829"
      },
      "source": [
        "from sklearn.metrics import r2_score\n",
        "\n",
        "r2_score(y_test, y_pred)"
      ],
      "execution_count": null,
      "outputs": [
        {
          "output_type": "execute_result",
          "data": {
            "text/plain": [
              "0.7909160991789904"
            ]
          },
          "metadata": {},
          "execution_count": 37
        }
      ]
    },
    {
      "cell_type": "code",
      "metadata": {
        "colab": {
          "base_uri": "https://localhost:8080/",
          "height": 439
        },
        "id": "2naXCWQ6I9U-",
        "outputId": "1ca9207e-3154-4e9e-c158-6d40ddc3896f"
      },
      "source": [
        "dataset"
      ],
      "execution_count": null,
      "outputs": [
        {
          "output_type": "execute_result",
          "data": {
            "text/html": [
              "<div>\n",
              "<style scoped>\n",
              "    .dataframe tbody tr th:only-of-type {\n",
              "        vertical-align: middle;\n",
              "    }\n",
              "\n",
              "    .dataframe tbody tr th {\n",
              "        vertical-align: top;\n",
              "    }\n",
              "\n",
              "    .dataframe thead th {\n",
              "        text-align: right;\n",
              "    }\n",
              "</style>\n",
              "<table border=\"1\" class=\"dataframe\">\n",
              "  <thead>\n",
              "    <tr style=\"text-align: right;\">\n",
              "      <th></th>\n",
              "      <th>age</th>\n",
              "      <th>sex</th>\n",
              "      <th>bmi</th>\n",
              "      <th>children</th>\n",
              "      <th>smoker</th>\n",
              "      <th>region</th>\n",
              "      <th>sex_female</th>\n",
              "      <th>sex_male</th>\n",
              "      <th>smoker_no</th>\n",
              "      <th>smoker_yes</th>\n",
              "      <th>region_northeast</th>\n",
              "      <th>region_northwest</th>\n",
              "      <th>region_southeast</th>\n",
              "      <th>region_southwest</th>\n",
              "    </tr>\n",
              "  </thead>\n",
              "  <tbody>\n",
              "    <tr>\n",
              "      <th>0</th>\n",
              "      <td>19.0</td>\n",
              "      <td>female</td>\n",
              "      <td>27.900</td>\n",
              "      <td>0.0</td>\n",
              "      <td>yes</td>\n",
              "      <td>southwest</td>\n",
              "      <td>1.0</td>\n",
              "      <td>0.0</td>\n",
              "      <td>0.0</td>\n",
              "      <td>1.0</td>\n",
              "      <td>0.0</td>\n",
              "      <td>0.0</td>\n",
              "      <td>0.0</td>\n",
              "      <td>1.0</td>\n",
              "    </tr>\n",
              "    <tr>\n",
              "      <th>1</th>\n",
              "      <td>18.0</td>\n",
              "      <td>male</td>\n",
              "      <td>33.770</td>\n",
              "      <td>1.0</td>\n",
              "      <td>no</td>\n",
              "      <td>southeast</td>\n",
              "      <td>0.0</td>\n",
              "      <td>1.0</td>\n",
              "      <td>1.0</td>\n",
              "      <td>0.0</td>\n",
              "      <td>0.0</td>\n",
              "      <td>0.0</td>\n",
              "      <td>1.0</td>\n",
              "      <td>0.0</td>\n",
              "    </tr>\n",
              "    <tr>\n",
              "      <th>2</th>\n",
              "      <td>28.0</td>\n",
              "      <td>male</td>\n",
              "      <td>33.000</td>\n",
              "      <td>3.0</td>\n",
              "      <td>no</td>\n",
              "      <td>southeast</td>\n",
              "      <td>0.0</td>\n",
              "      <td>1.0</td>\n",
              "      <td>1.0</td>\n",
              "      <td>0.0</td>\n",
              "      <td>0.0</td>\n",
              "      <td>0.0</td>\n",
              "      <td>1.0</td>\n",
              "      <td>0.0</td>\n",
              "    </tr>\n",
              "    <tr>\n",
              "      <th>3</th>\n",
              "      <td>33.0</td>\n",
              "      <td>male</td>\n",
              "      <td>22.705</td>\n",
              "      <td>0.0</td>\n",
              "      <td>no</td>\n",
              "      <td>northwest</td>\n",
              "      <td>0.0</td>\n",
              "      <td>1.0</td>\n",
              "      <td>1.0</td>\n",
              "      <td>0.0</td>\n",
              "      <td>0.0</td>\n",
              "      <td>1.0</td>\n",
              "      <td>0.0</td>\n",
              "      <td>0.0</td>\n",
              "    </tr>\n",
              "    <tr>\n",
              "      <th>4</th>\n",
              "      <td>32.0</td>\n",
              "      <td>male</td>\n",
              "      <td>28.880</td>\n",
              "      <td>0.0</td>\n",
              "      <td>no</td>\n",
              "      <td>northwest</td>\n",
              "      <td>0.0</td>\n",
              "      <td>1.0</td>\n",
              "      <td>1.0</td>\n",
              "      <td>0.0</td>\n",
              "      <td>0.0</td>\n",
              "      <td>1.0</td>\n",
              "      <td>0.0</td>\n",
              "      <td>0.0</td>\n",
              "    </tr>\n",
              "    <tr>\n",
              "      <th>...</th>\n",
              "      <td>...</td>\n",
              "      <td>...</td>\n",
              "      <td>...</td>\n",
              "      <td>...</td>\n",
              "      <td>...</td>\n",
              "      <td>...</td>\n",
              "      <td>...</td>\n",
              "      <td>...</td>\n",
              "      <td>...</td>\n",
              "      <td>...</td>\n",
              "      <td>...</td>\n",
              "      <td>...</td>\n",
              "      <td>...</td>\n",
              "      <td>...</td>\n",
              "    </tr>\n",
              "    <tr>\n",
              "      <th>1333</th>\n",
              "      <td>50.0</td>\n",
              "      <td>male</td>\n",
              "      <td>30.970</td>\n",
              "      <td>3.0</td>\n",
              "      <td>no</td>\n",
              "      <td>northwest</td>\n",
              "      <td>0.0</td>\n",
              "      <td>1.0</td>\n",
              "      <td>1.0</td>\n",
              "      <td>0.0</td>\n",
              "      <td>0.0</td>\n",
              "      <td>1.0</td>\n",
              "      <td>0.0</td>\n",
              "      <td>0.0</td>\n",
              "    </tr>\n",
              "    <tr>\n",
              "      <th>1334</th>\n",
              "      <td>18.0</td>\n",
              "      <td>female</td>\n",
              "      <td>31.920</td>\n",
              "      <td>0.0</td>\n",
              "      <td>no</td>\n",
              "      <td>northeast</td>\n",
              "      <td>1.0</td>\n",
              "      <td>0.0</td>\n",
              "      <td>1.0</td>\n",
              "      <td>0.0</td>\n",
              "      <td>1.0</td>\n",
              "      <td>0.0</td>\n",
              "      <td>0.0</td>\n",
              "      <td>0.0</td>\n",
              "    </tr>\n",
              "    <tr>\n",
              "      <th>1335</th>\n",
              "      <td>18.0</td>\n",
              "      <td>female</td>\n",
              "      <td>36.850</td>\n",
              "      <td>0.0</td>\n",
              "      <td>no</td>\n",
              "      <td>southeast</td>\n",
              "      <td>1.0</td>\n",
              "      <td>0.0</td>\n",
              "      <td>1.0</td>\n",
              "      <td>0.0</td>\n",
              "      <td>0.0</td>\n",
              "      <td>0.0</td>\n",
              "      <td>1.0</td>\n",
              "      <td>0.0</td>\n",
              "    </tr>\n",
              "    <tr>\n",
              "      <th>1336</th>\n",
              "      <td>21.0</td>\n",
              "      <td>female</td>\n",
              "      <td>25.800</td>\n",
              "      <td>0.0</td>\n",
              "      <td>no</td>\n",
              "      <td>southwest</td>\n",
              "      <td>1.0</td>\n",
              "      <td>0.0</td>\n",
              "      <td>1.0</td>\n",
              "      <td>0.0</td>\n",
              "      <td>0.0</td>\n",
              "      <td>0.0</td>\n",
              "      <td>0.0</td>\n",
              "      <td>1.0</td>\n",
              "    </tr>\n",
              "    <tr>\n",
              "      <th>1337</th>\n",
              "      <td>61.0</td>\n",
              "      <td>female</td>\n",
              "      <td>29.070</td>\n",
              "      <td>0.0</td>\n",
              "      <td>yes</td>\n",
              "      <td>northwest</td>\n",
              "      <td>1.0</td>\n",
              "      <td>0.0</td>\n",
              "      <td>0.0</td>\n",
              "      <td>1.0</td>\n",
              "      <td>0.0</td>\n",
              "      <td>1.0</td>\n",
              "      <td>0.0</td>\n",
              "      <td>0.0</td>\n",
              "    </tr>\n",
              "  </tbody>\n",
              "</table>\n",
              "<p>1338 rows × 14 columns</p>\n",
              "</div>"
            ],
            "text/plain": [
              "       age     sex  ...  region_southeast  region_southwest\n",
              "0     19.0  female  ...               0.0               1.0\n",
              "1     18.0    male  ...               1.0               0.0\n",
              "2     28.0    male  ...               1.0               0.0\n",
              "3     33.0    male  ...               0.0               0.0\n",
              "4     32.0    male  ...               0.0               0.0\n",
              "...    ...     ...  ...               ...               ...\n",
              "1333  50.0    male  ...               0.0               0.0\n",
              "1334  18.0  female  ...               0.0               0.0\n",
              "1335  18.0  female  ...               1.0               0.0\n",
              "1336  21.0  female  ...               0.0               1.0\n",
              "1337  61.0  female  ...               0.0               0.0\n",
              "\n",
              "[1338 rows x 14 columns]"
            ]
          },
          "metadata": {},
          "execution_count": 38
        }
      ]
    },
    {
      "cell_type": "markdown",
      "source": [
        "**Feature Scaling**\n",
        "\n",
        "\n",
        "> It is necessary because sometimes a large value in the variable can dominate the small value. \n",
        "\n"
      ],
      "metadata": {
        "id": "vUaA1Sab81To"
      }
    },
    {
      "cell_type": "code",
      "metadata": {
        "id": "Mlew2aaUJEhd"
      },
      "source": [
        "from sklearn.preprocessing import StandardScaler\n",
        "X_sc = StandardScaler()\n",
        "y_sc = StandardScaler()\n",
        "X_train_new = X_sc.fit_transform(X_train[['age', 'sex_female', 'sex_male',\n",
        "       'smoker_no', 'smoker_yes', 'bmi','children','region_northeast','region_northwest','region_southeast','region_southwest']])\n",
        "X_test_new = X_sc.transform(X_test[['age', 'sex_female', 'sex_male',\n",
        "       'smoker_no', 'smoker_yes', 'bmi','children','region_northeast','region_northwest','region_southeast','region_southwest']])\n",
        "y_train_new = y_sc.fit_transform(y_train[['charges']])\n",
        "y_test_new = y_sc.transform(y_test[['charges']])"
      ],
      "execution_count": null,
      "outputs": []
    },
    {
      "cell_type": "markdown",
      "source": [
        "**Support Vector Regression**"
      ],
      "metadata": {
        "id": "EWQcI_k797jP"
      }
    },
    {
      "cell_type": "code",
      "metadata": {
        "colab": {
          "base_uri": "https://localhost:8080/"
        },
        "id": "Sfn-FnCfKUes",
        "outputId": "0ac1f855-6d7d-437a-bb0c-015e6308285b"
      },
      "source": [
        "\n",
        "from sklearn.svm import SVR \n",
        "\n",
        "regressor = SVR(kernel = 'linear')\n",
        "regressor.fit(X_train_new,y_train_new)"
      ],
      "execution_count": null,
      "outputs": [
        {
          "output_type": "execute_result",
          "data": {
            "text/plain": [
              "SVR(kernel='linear')"
            ]
          },
          "metadata": {},
          "execution_count": 45
        }
      ]
    },
    {
      "cell_type": "code",
      "metadata": {
        "id": "dsSrUTG4KaDt"
      },
      "source": [
        "y_pred = regressor.predict(X_test_new)"
      ],
      "execution_count": null,
      "outputs": []
    },
    {
      "cell_type": "code",
      "metadata": {
        "colab": {
          "base_uri": "https://localhost:8080/"
        },
        "id": "18HCaJE0KfbD",
        "outputId": "a698231a-5b04-417b-864c-8d8408c9fc78"
      },
      "source": [
        "r2_score(y_test_new, y_pred)"
      ],
      "execution_count": null,
      "outputs": [
        {
          "output_type": "execute_result",
          "data": {
            "text/plain": [
              "0.7619821999423445"
            ]
          },
          "metadata": {},
          "execution_count": 47
        }
      ]
    },
    {
      "cell_type": "markdown",
      "source": [
        "**Decision Tree Regression**"
      ],
      "metadata": {
        "id": "diZWmQLV-FI2"
      }
    },
    {
      "cell_type": "code",
      "metadata": {
        "colab": {
          "base_uri": "https://localhost:8080/"
        },
        "id": "GwyZdsegiCXs",
        "outputId": "e8db8c82-f408-48b2-cbae-05a50b22ba12"
      },
      "source": [
        "\n",
        "from sklearn.tree import DecisionTreeRegressor\n",
        "\n",
        "\n",
        "regressor = DecisionTreeRegressor(random_state = 0)\n",
        "regressor.fit(X_train_new,y_train_new) "
      ],
      "execution_count": null,
      "outputs": [
        {
          "output_type": "execute_result",
          "data": {
            "text/plain": [
              "DecisionTreeRegressor(random_state=0)"
            ]
          },
          "metadata": {},
          "execution_count": 48
        }
      ]
    },
    {
      "cell_type": "code",
      "metadata": {
        "colab": {
          "base_uri": "https://localhost:8080/"
        },
        "id": "qwFVM-7RiMEH",
        "outputId": "1f010e79-635c-434c-f004-ea1b2c22b83d"
      },
      "source": [
        "y_pred = regressor.predict(X_test_new)\n",
        "r2_score(y_test_new, y_pred)"
      ],
      "execution_count": null,
      "outputs": [
        {
          "output_type": "execute_result",
          "data": {
            "text/plain": [
              "0.7120277244974373"
            ]
          },
          "metadata": {},
          "execution_count": 49
        }
      ]
    },
    {
      "cell_type": "markdown",
      "source": [
        "**Random Forest Regression**"
      ],
      "metadata": {
        "id": "iH2D5F6f-f43"
      }
    },
    {
      "cell_type": "code",
      "metadata": {
        "colab": {
          "base_uri": "https://localhost:8080/"
        },
        "id": "F8go387diOVd",
        "outputId": "da326321-d947-4613-9bcc-75af5aeca59e"
      },
      "source": [
        "\n",
        "from sklearn.ensemble import RandomForestRegressor\n",
        "\n",
        "regressor = RandomForestRegressor(n_estimators = 10,random_state = 0) # n estiamator is the number of decision trees\n",
        "regressor.fit(X_train_new,y_train_new) "
      ],
      "execution_count": null,
      "outputs": [
        {
          "output_type": "execute_result",
          "data": {
            "text/plain": [
              "RandomForestRegressor(n_estimators=10, random_state=0)"
            ]
          },
          "metadata": {},
          "execution_count": 50
        }
      ]
    },
    {
      "cell_type": "code",
      "metadata": {
        "id": "gT6rdBfbiZbG",
        "outputId": "00b91e71-4c60-4512-bd09-18d3dab084c4",
        "colab": {
          "base_uri": "https://localhost:8080/"
        }
      },
      "source": [
        "y_pred = regressor.predict(X_test_new)\n",
        "r2_score(y_test_new, y_pred)"
      ],
      "execution_count": null,
      "outputs": [
        {
          "output_type": "execute_result",
          "data": {
            "text/plain": [
              "0.8405132294688319"
            ]
          },
          "metadata": {},
          "execution_count": 51
        }
      ]
    },
    {
      "cell_type": "markdown",
      "source": [
        "#Result Analysis\n",
        "\n",
        "\n",
        "\n",
        "> The R-square error for the regression are given below:\n",
        "\n",
        "\n",
        "\n",
        "\n",
        "1. Linear Regression :0.7909\n",
        "2. Support Vector Regression:0.7619\n",
        "3. Decision Tree Regression:0.7120\n",
        "4. Random Forest Regressrion:0.8405\n",
        "\n",
        "\n",
        "> \n",
        "\n",
        "\n",
        "In the dataset, Multivariate Linear Regression, Support Vector Regression, Decision Tree Regression, Random Forest Regressrion has been applied. For evaluating their performances R-square error evaluation matrix has been applied for all. From the values we can see that, R-square value for random forest regression is more close to 1 which is 0.84 than the others. So that, random forest regression gives better prediction in the dataset."
      ],
      "metadata": {
        "id": "d-huYydQgBlp"
      }
    }
  ]
}